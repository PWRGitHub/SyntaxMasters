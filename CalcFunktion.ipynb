{
 "cells": [
  {
   "cell_type": "code",
   "execution_count": null,
   "metadata": {},
   "outputs": [],
   "source": [
    "# FUNCTION “CALCULATIONS”:\n",
    "# Funktion needs (GDP_growth, ExpInflRate, Beta, Dividend, GerTenYRate, ROE):\n",
    "def CalcFunktion (GDP_growth, ExpInflRate, Beta, Dividend, GerTenYRate, ROE):\n",
    "    \n",
    "\n",
    "# calculate Expected Market Return\n",
    "# ExpactedMarketReturn = GDP growth (real) +  Expected Inflation Rate\n",
    "#\n",
    "# calculate  Risk Premium for the Investor.\n",
    "# Risk Premium= ExpMarketReturn - RiskFreeRate = 6,0%\n",
    "#\n",
    "# calculate Required Rate Of Return\n",
    "# RequiredRateOfReturn = RiskPremium x Beta\n",
    "#\n",
    "# calculate Percentage Of Retained Earnings\n",
    "# PercentageOFReteinedEarnings = (EarningsPerShare - Dividend) / EarningsPerShare\n",
    "#\n",
    "# calculate Growth Rate\n",
    "# growthRate = ReturnOnEquity(In Percent) x PercentageOfRetainedEarnings\n",
    "#\n",
    "# calculate Value of the Stock\n",
    "# Value = dividend / (required rate of return - growth rate)\n",
    "#\n",
    "# FUNCTION RETURN: (Value)\n"
   ]
  }
 ],
 "metadata": {
  "kernelspec": {
   "display_name": "Python 3",
   "language": "python",
   "name": "python3"
  },
  "language_info": {
   "codemirror_mode": {
    "name": "ipython",
    "version": 3
   },
   "file_extension": ".py",
   "mimetype": "text/x-python",
   "name": "python",
   "nbconvert_exporter": "python",
   "pygments_lexer": "ipython3",
   "version": "3.8.5"
  }
 },
 "nbformat": 4,
 "nbformat_minor": 4
}
