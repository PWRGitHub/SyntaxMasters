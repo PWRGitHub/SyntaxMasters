{
 "cells": [
  {
   "cell_type": "markdown",
   "metadata": {
    "slideshow": {
     "slide_type": "slide"
    }
   },
   "source": [
    "# Syntax Masters\n",
    "# CAPM - Capital Asset Pricing Model\n",
    "## Idea of the program:\n",
    "## Finding an entry price for investment into a chosen stock"
   ]
  },
  {
   "cell_type": "markdown",
   "metadata": {
    "slideshow": {
     "slide_type": "slide"
    }
   },
   "source": [
    "### In finance, the capital asset pricing model (CAPM) is a model used to determine a theoretically appropriate required rate of return of an asset.\n",
    "\n",
    "#### 1. Expected Market Return\n",
    "Expacted Market Return = GDP growth (real) +  Expected Inflation Rate\n",
    "\n",
    "#### 2. Risk Premium for the Investor\n",
    "Risk Premium = Expacted Market Return - Risk Free Rate\n",
    "\n",
    "#### 3. Required Rate Of Return\n",
    "Required Rate of Return = Risk Premium x Beta"
   ]
  },
  {
   "cell_type": "markdown",
   "metadata": {
    "slideshow": {
     "slide_type": "subslide"
    }
   },
   "source": [
    "### In finance, the capital asset pricing model (CAPM) is a model used to determine a theoretically appropriate required rate of return of an asset.\n",
    "\n",
    "#### 4. Percentage Of Retained Earnings\n",
    "Percentage of Reteined Earnings = (Earnings per Share - Dividend) / Earnings per Share\n",
    "\n",
    "#### 5. Dividend Growth Rate\n",
    "Growth Rate = Return on Equity(In Percent) x Percentage of Retained Earnings"
   ]
  },
  {
   "cell_type": "markdown",
   "metadata": {
    "slideshow": {
     "slide_type": "subslide"
    }
   },
   "source": [
    "### In finance, the capital asset pricing model (CAPM) is a model used to determine a theoretically appropriate required rate of return of an asset.\n",
    "\n",
    "#### 6. Value of the Stock\n",
    "Value = Dividend / (Required Rate of Return - Growth Rate)"
   ]
  },
  {
   "cell_type": "markdown",
   "metadata": {
    "slideshow": {
     "slide_type": "slide"
    }
   },
   "source": [
    "#### Used Modules:"
   ]
  },
  {
   "cell_type": "code",
   "execution_count": 8,
   "metadata": {},
   "outputs": [],
   "source": [
    "#Loading Web-Pages:\n",
    "from urllib.request import urlopen #several modules for working with URLs\n",
    "import requests                    #allows to send HTTP requests easily\n",
    "\n",
    "#Handling HTML\n",
    "from bs4 import BeautifulSoup      #pulling data from HTML and XML files\n",
    "from lxml import html              #processing XML and HTML\n",
    "\n",
    "#Direct Acces to Financial Data\n",
    "import yfinance as yf              #Yahoo! Finance market data downloader\n",
    "\n",
    "#GUI Module\n",
    "import streamlit as st             #Streamlit turns data scripts into web apps"
   ]
  },
  {
   "cell_type": "markdown",
   "metadata": {
    "slideshow": {
     "slide_type": "slide"
    }
   },
   "source": [
    "#### Scraping from the net\n",
    "##### soup.select_one \n",
    "function finds only the first tag that matches a selector"
   ]
  },
  {
   "cell_type": "code",
   "execution_count": 28,
   "metadata": {},
   "outputs": [
    {
     "data": {
      "text/plain": [
       "'-0.292%'"
      ]
     },
     "execution_count": 28,
     "metadata": {},
     "output_type": "execute_result"
    }
   ],
   "source": [
    "html = urlopen(\"https://www.marketwatch.com/investing/bond/tmbmkde-10y?countrycode=bx\").read()\n",
    "soup = BeautifulSoup(html, features='lxml')\n",
    "\n",
    "Tenyearbond = soup.select_one('body > div.container.container--body > div.region.region--intraday > div.column.column--aside > div > div.intraday__close > table > tbody > tr > td').text\n",
    "Tenyearbond"
   ]
  },
  {
   "cell_type": "markdown",
   "metadata": {
    "slideshow": {
     "slide_type": "slide"
    }
   },
   "source": [
    "#### Scraping economic data with selection of Forcast Period"
   ]
  },
  {
   "cell_type": "code",
   "execution_count": 29,
   "metadata": {},
   "outputs": [
    {
     "name": "stdout",
     "output_type": "stream",
     "text": [
      "Please choose a year between 2020 and 2022!\n"
     ]
    }
   ],
   "source": [
    "html = urlopen (\"https://ec.europa.eu/info/business-economy-euro/economic-performance-and-forecasts/economic-performance-country/euro-area_en\").read()\n",
    "soup = BeautifulSoup(html, features='lxml')\n",
    "\n",
    "yearGdp = 2023\n",
    "if yearGdp == 2020:\n",
    "    GDPgrowth = soup.select_one('#block-system-main > div > div > div.page-content > div > div > section > div > div > div > table > tbody > tr:nth-child(1) > td:nth-child(3)').text\n",
    "    Inflationrate = soup.select_one('#block-system-main > div > div > div.page-content > div > div > section > div > div > div > table > tbody > tr:nth-child(2) > td:nth-child(3)').text\n",
    "elif yearGdp == 2021:\n",
    "    GDPgrowth = soup.select_one('#block-system-main > div > div > div.page-content > div > div > section > div > div > div > table > tbody > tr:nth-child(1) > td:nth-child(4)').text\n",
    "    Inflationrate = soup.select_one('#block-system-main > div > div > div.page-content > div > div > section > div > div > div > table > tbody > tr:nth-child(2) > td:nth-child(4)').text\n",
    "elif yearGdp == 2022:\n",
    "    GDPgrowth = soup.select_one('#block-system-main > div > div > div.page-content > div > div > section > div > div > div > table > tbody > tr:nth-child(1) > td:nth-child(5)').text\n",
    "    Inflationrate = soup.select_one('#block-system-main > div > div > div.page-content > div > div > section > div > div > div > table > tbody > tr:nth-child(2) > td:nth-child(5)').text\n",
    "\n",
    "else:\n",
    "    if yearGdp <= 2020 or yearGdp >= 2022:\n",
    "        print ('Please choose a year between 2020 and 2022!')\n",
    "        \n",
    "        # pauses Streamlit with a request to choose a year within limits\n",
    "        # st.warning ('Please choose a year between 2020 and 2022!')\n",
    "        # st.stop() "
   ]
  },
  {
   "cell_type": "markdown",
   "metadata": {
    "slideshow": {
     "slide_type": "slide"
    }
   },
   "source": [
    "#### Converting scraped data"
   ]
  },
  {
   "cell_type": "code",
   "execution_count": 26,
   "metadata": {},
   "outputs": [
    {
     "name": "stdout",
     "output_type": "stream",
     "text": [
      "-0.292%\n",
      "The converted Ten Year Bond (decimal):  -0.00292\n"
     ]
    }
   ],
   "source": [
    "html = urlopen(\"https://www.marketwatch.com/investing/bond/tmbmkde-10y?countrycode=bx\").read()\n",
    "soup = BeautifulSoup(html, features='lxml')\n",
    "Tenyearbond = soup.select_one('body > div.container.container--body > div.region.region--intraday > div.column.column--aside > div > div.intraday__close > table > tbody > tr > td').text\n",
    "print (Tenyearbond)\n",
    "\n",
    "Tenyearbond = Tenyearbond.replace(\"%\",\"\")\n",
    "Tenyearbond = float(Tenyearbond)/100\n",
    "print ('The converted Ten Year Bond (decimal):  ' + str(Tenyearbond))"
   ]
  },
  {
   "cell_type": "markdown",
   "metadata": {
    "slideshow": {
     "slide_type": "slide"
    }
   },
   "source": [
    "#### Using yfinance module\n",
    "##### Yahoo! Finance market data downloader\n",
    "https://pypi.org/project/yfinance/"
   ]
  },
  {
   "cell_type": "code",
   "execution_count": 12,
   "metadata": {
    "scrolled": false
   },
   "outputs": [
    {
     "name": "stdout",
     "output_type": "stream",
     "text": [
      "Date\n",
      "1987-05-11    0.000536\n",
      "1987-08-10    0.000536\n",
      "1987-11-17    0.000714\n",
      "1988-02-12    0.000714\n",
      "1988-05-16    0.000714\n",
      "                ...   \n",
      "2020-05-08    0.205000\n",
      "2020-08-07    0.205000\n",
      "2020-11-06    0.205000\n",
      "2021-02-05    0.205000\n",
      "2021-05-07    0.220000\n",
      "Name: Dividends, Length: 71, dtype: float64\n"
     ]
    }
   ],
   "source": [
    "stock = 'AAPL'               #Apple Inc\n",
    "print (yf.Ticker(stock).dividends)"
   ]
  },
  {
   "cell_type": "markdown",
   "metadata": {
    "slideshow": {
     "slide_type": "slide"
    }
   },
   "source": [
    "#### Calculations"
   ]
  },
  {
   "cell_type": "code",
   "execution_count": 43,
   "metadata": {},
   "outputs": [
    {
     "name": "stdout",
     "output_type": "stream",
     "text": [
      "This is the Expected Market Return in 2021 (Euro-Area in Per-Cent): 6.699999999999999\n"
     ]
    }
   ],
   "source": [
    "#scraping from 2021 Economic Data Forecast\n",
    "html = urlopen (\"https://ec.europa.eu/info/business-economy-euro/economic-performance-and-forecasts/economic-performance-country/euro-area_en\").read()\n",
    "soup = BeautifulSoup(html, features='lxml')\n",
    "\n",
    "GDPgrowth = soup.select_one('#block-system-main > div > div > div.page-content > div > div > section > div > div > div > table > tbody > tr:nth-child(1) > td:nth-child(4)').text\n",
    "Inflationrate = soup.select_one('#block-system-main > div > div > div.page-content > div > div > section > div > div > div > table > tbody > tr:nth-child(2) > td:nth-child(4)').text\n",
    "\n",
    "#converting\n",
    "GDPgrowth = float(GDPgrowth.replace(\",\", \".\"))\n",
    "Inflationrate = float(Inflationrate.replace(\",\", \".\"))\n",
    "\n",
    "#calculating\n",
    "# ExpactedMarketReturn = GDP growth (real) +  Expected Inflation Rate\n",
    "ExpectedMarketReturn = GDPgrowth + Inflationrate\n",
    "print (\"This is the Expected Market Return in 2021 (Euro-Area in Per-Cent): \" + str(ExpectedMarketReturn))"
   ]
  },
  {
   "cell_type": "code",
   "execution_count": 5,
   "metadata": {
    "slideshow": {
     "slide_type": "slide"
    }
   },
   "outputs": [
    {
     "name": "stdout",
     "output_type": "stream",
     "text": [
      "Overwriting capm.py\n"
     ]
    }
   ],
   "source": [
    "%%writefile capm.py\n",
    "\n",
    "from bs4 import BeautifulSoup\n",
    "from urllib.request import urlopen\n",
    "import requests \n",
    "from lxml import html\n",
    "import yfinance as yf\n",
    "import streamlit as st\n",
    "\n",
    "st.header('Syntax Masters')\n",
    "st.image('./CAPM_Bild.jpg')\n",
    "st.subheader(\"Our program uses the CAPM (Capital Asset Pricing Model) in order to give our users the ability to make a data based decision on entering the stock market in a specific stock or not\")\n",
    "\n",
    "stock = str(st.text_input(\"Please write the ticker of the company that you're looking for: \"))\n",
    "if not stock:\n",
    "    st.warning('Please input a stock ticker!')\n",
    "    st.stop()\n",
    "st.success('Thank you for inputting a stock ticker.')\n",
    "st.write(\"You are looking for this Stock: \", stock)\n",
    "\n",
    "yearGdp = st.number_input('Would You like to change the year for the Economic Data (2020-2022)? ', value=2021)\n",
    "st.write(yearGdp, type(yearGdp))\n",
    "#yearGdp = st.text_input(\"Which year are you looking for?: \")\n",
    "#yearGdp = int(yearGdp)\n",
    "st.write(\"We will use the Year: \", yearGdp)\n",
    "\n",
    "\n",
    "headers={'User-Agent': 'Mozilla/5.0 (Windows NT 10.0; Win64; x64) AppleWebKit/537.36 (KHTML, like Gecko) Chrome/71.0.3578.98 Safari/537.36'}\n",
    "url = 'https://finance.yahoo.com/quote/'+ stock + '/key-statistics?p=' + stock\n",
    "resp = requests.get(url, headers=headers, timeout=5).text\n",
    "soup = BeautifulSoup(resp, features='lxml')\n",
    "\n",
    "beta = soup.select_one('#Col1-0-KeyStatistics-Proxy > section > div.Mstart\\(a\\).Mend\\(a\\) > div.Fl\\(end\\).W\\(50\\%\\).smartphone_W\\(100\\%\\) > div > div:nth-child(1) > div > div > table > tbody > tr.Bxz\\(bb\\).H\\(36px\\).BdY.Bdc\\(\\$seperatorColor\\) > td.Fw\\(500\\).Ta\\(end\\).Pstart\\(10px\\).Miw\\(60px\\)').text\n",
    "st.write (\"Beta \" +stock+\": \"'\\n' + beta)\n",
    "\n",
    "companystock = soup.select_one('#quote-header-info > div.My\\(6px\\).Pos\\(r\\).smartphone_Mt\\(6px\\) > div.D\\(ib\\).Va\\(m\\).Maw\\(65\\%\\).Ov\\(h\\) > div > span.Trsdu\\(0\\.3s\\).Fw\\(b\\).Fz\\(36px\\).Mb\\(-4px\\).D\\(ib\\)').text\n",
    "#st.write (\"stock \" +stock+\": \"'\\n' + companystock)\n",
    "\n",
    "ReturnOnEquity = soup.select_one('#Col1-0-KeyStatistics-Proxy > section > div.Mstart\\(a\\).Mend\\(a\\) > div:nth-child(3) > div > div:nth-child(3) > div > div > table > tbody > tr.Bxz\\(bb\\).H\\(36px\\).BdB.Bdbc\\(\\$seperatorColor\\) > td.Fw\\(500\\).Ta\\(end\\).Pstart\\(10px\\).Miw\\(60px\\)').text\n",
    "#print(\"Return On Equity \" +stock+ \":\" '\\n' + ReturnOnEquity) \n",
    "\n",
    "DividendRate = soup.select_one('#Col1-0-KeyStatistics-Proxy > section > div.Mstart\\(a\\).Mend\\(a\\) > div.Fl\\(end\\).W\\(50\\%\\).smartphone_W\\(100\\%\\) > div > div:nth-child(3) > div > div > table > tbody > tr:nth-child(3) > td.Fw\\(500\\).Ta\\(end\\).Pstart\\(10px\\).Miw\\(60px\\)').text\n",
    "#print(\"Dividend Rate \" +stock+ \":\" '\\n' + DividendRate)\n",
    "\n",
    "EPS = soup.select_one('#Col1-0-KeyStatistics-Proxy > section > div.Mstart\\(a\\).Mend\\(a\\) > div:nth-child(3) > div > div:nth-child(4) > div > div > table > tbody > tr:nth-child(7) > td.Fw\\(500\\).Ta\\(end\\).Pstart\\(10px\\).Miw\\(60px\\)').text\n",
    "#print(\"EPS \" +stock+ \":\" '\\n' + EPS)\n",
    "\n",
    "\n",
    "html = urlopen (\"https://ec.europa.eu/info/business-economy-euro/economic-performance-and-forecasts/economic-performance-country/euro-area_en\").read()\n",
    "soup = BeautifulSoup(html, features='lxml')\n",
    "\n",
    "if yearGdp == 2020:\n",
    "    GDPgrowth = soup.select_one('#block-system-main > div > div > div.page-content > div > div > section > div > div > div > table > tbody > tr:nth-child(1) > td:nth-child(3)').text\n",
    "    #st.write(\"Expected GDP Growth 2020: \"'\\n' + GDPgrowth)\n",
    "\n",
    "    Inflationrate = soup.select_one('#block-system-main > div > div > div.page-content > div > div > section > div > div > div > table > tbody > tr:nth-child(2) > td:nth-child(3)').text\n",
    "    #st.write(\"Expected Inflation Rate 2020: \"'\\n' + Inflationrate)\n",
    "elif yearGdp == 2021:\n",
    "    GDPgrowth = soup.select_one('#block-system-main > div > div > div.page-content > div > div > section > div > div > div > table > tbody > tr:nth-child(1) > td:nth-child(4)').text\n",
    "    #st.write(\"expected GDP Growth 2021: \"'\\n' + GDPgrowth)\n",
    "\n",
    "    Inflationrate = soup.select_one('#block-system-main > div > div > div.page-content > div > div > section > div > div > div > table > tbody > tr:nth-child(2) > td:nth-child(4)').text\n",
    "    #st.write(\"Expected Inflation rate 2021:\"'\\n' + Inflationrate)\n",
    "elif yearGdp == 2022:\n",
    "    GDPgrowth = soup.select_one('#block-system-main > div > div > div.page-content > div > div > section > div > div > div > table > tbody > tr:nth-child(1) > td:nth-child(5)').text\n",
    "    #st.write(\"Expected GDP Growth 2022: \" '\\n' + GDPgrowth)\n",
    "\n",
    "    Inflationrate = soup.select_one('#block-system-main > div > div > div.page-content > div > div > section > div > div > div > table > tbody > tr:nth-child(2) > td:nth-child(5)').text\n",
    "    #st.write(\"Inflation Rate 2022: \"'\\n' + Inflationrate)\n",
    "else:\n",
    "    #st.write(\"Please choose a year between 2020 and 2022\")\n",
    "    if yearGdp <= 2020 or yearGdp >= 2022:\n",
    "        st.warning('Please choose a year between 2020 and 2022!')\n",
    "        st.stop()\n",
    "\n",
    "        \n",
    "html = urlopen(\"https://www.marketwatch.com/investing/bond/tmbmkde-10y?countrycode=bx\").read()\n",
    "soup = BeautifulSoup(html, features='lxml')\n",
    "\n",
    "Tenyearbond = soup.select_one('body > div.container.container--body > div.region.region--intraday > div.column.column--aside > div > div.intraday__close > table > tbody > tr > td').text\n",
    "#st.write(\"Ten Year Bond: \"'\\n' + Tenyearbond)\n",
    "\n",
    "#Converting the scraped data from strings to floats\n",
    "GDPgrowth = float(GDPgrowth.replace(\",\", \".\"))\n",
    "st.write ('')\n",
    "st.write ('The converted GDP Growth is:            ' + str(GDPgrowth) + '%')\n",
    "\n",
    "Inflationrate = float(Inflationrate.replace(\",\", \".\"))\n",
    "st.write ('The converted Inflationrate is:         ' + str(Inflationrate) + '%')\n",
    "\n",
    "Tenyearbond = Tenyearbond.replace(\"%\",\"\")\n",
    "Tenyearbond = float(Tenyearbond)/100\n",
    "st.write ('The converted Ten Year Bond (decimal):  ' + str(Tenyearbond))\n",
    "\n",
    "beta = beta.replace(\",\", \".\")\n",
    "beta = float(beta)\n",
    "st.write ('The converted Beta (factor):            ' + str(beta))\n",
    "\n",
    "EPS = EPS.replace(\",\", \".\")\n",
    "EPS = float(EPS)\n",
    "st.write ('The converted Earnings per share (EPS): ' + str(EPS))\n",
    "\n",
    "DividendRate = DividendRate.replace(\",\", \".\")\n",
    "DividendPerShare = float(DividendRate)             #!!! DividendRate in yahoo.finance is dividend per share!\n",
    "st.write ('The converted Dividend per share:       ' + str(DividendPerShare))\n",
    "\n",
    "ReturnOnEquity = ReturnOnEquity.replace(\"%\", \"\")\n",
    "ReturnOnEquity = ReturnOnEquity.replace(\",\", \".\")\n",
    "ReturnOnEquity = float(ReturnOnEquity)/100\n",
    "st.write ('The Return on equity (decimal):         ' + str(ReturnOnEquity))\n",
    "st.write ('')\n",
    "\n",
    "\n",
    "##CALCULATIONS\n",
    "# calculate Expected Market Return\n",
    "# ExpactedMarketReturn = GDP growth (real) +  Expected Inflation Rate\n",
    "ExpectedMarketReturn = GDPgrowth + Inflationrate\n",
    "st.write(\"This is the Expected Market Return:                    \" + str(ExpectedMarketReturn))\n",
    "\n",
    "# calculate  Risk Premium for the Investor.\n",
    "# Risk Premium= ExpMarketReturn - RiskFreeRate\n",
    "Riskpremium = ExpectedMarketReturn - Tenyearbond\n",
    "st.write(\"This is the Risk Premium for the investor:             \" + str(Riskpremium))\n",
    "\n",
    "# calculate Required Rate Of Return\n",
    "# RequiredRateOfReturn = RiskPremium x Beta\n",
    "RequiredReturRate = Riskpremium * beta / 100\n",
    "st.write(\"This is the Required Rate of Return (decimal):         \" + str(RequiredReturRate))\n",
    "\n",
    "# calculate Percentage Of Retained Earnings\n",
    "# PercentageOFReteinedEarnings = (EarningsPerShare - Dividend) / EarningsPerShare\n",
    "PercentRetainedEarnings = (EPS - DividendPerShare) / EPS\n",
    "st.write(\"This is the Percentage of Retained Earnings (decimal): \" + str(PercentRetainedEarnings))\n",
    "\n",
    "# calculate Dividend Growth Rate\n",
    "# growthRate = ReturnOnEquity(In Percent) x PercentageOfRetainedEarnings\n",
    "DivGrowthRate = ReturnOnEquity * PercentRetainedEarnings\n",
    "st.write(\"This is the Dividend Growth Rate (decimal):            \" + str(DivGrowthRate))\n",
    "\n",
    "\n",
    "# calculate Value of the Stock\n",
    "# Value = dividend / (required rate of return - growth rate)\n",
    "if DivGrowthRate > (RequiredReturRate * 0.85):\n",
    "    st.write ('!!!')\n",
    "    st.write ('The Dividend Growth Rate is to close (85%) or higher than your Required Return Rate.')\n",
    "    st.write ('The CAPM Model will not work in this case.')\n",
    "    st.write ('The dividents in the last years were: ')\n",
    "    st.write (yf.Ticker(stock).dividends)\n",
    "    st.bar_chart(yf.Ticker(stock).dividends)\n",
    "    DivGrowthRate = st.text_input ('Please examine the company and type in which Divident Growth Rate You would like to use (decimal with DOT!): ')\n",
    "    if not DivGrowthRate:\n",
    "        st.warning('Please enter your estimate for the Dividend Growth Rate!')\n",
    "        st.stop()\n",
    "    st.success('Thank you for your selection!')\n",
    "DivGrowthRate = float (DivGrowthRate)\n",
    "StockValue = DividendPerShare / (RequiredReturRate - DivGrowthRate)\n",
    "st.write(\"This is the Stock Value:                               \" + str(StockValue))\n",
    "st.write (\"The actual price for \" +stock+\": \"'\\n' + companystock)\n"
   ]
  },
  {
   "cell_type": "markdown",
   "metadata": {
    "slideshow": {
     "slide_type": "slide"
    }
   },
   "source": [
    "### Challenges\n",
    "- Web Scraping didn't work and a header had to be added to simulate a Web Browser Request"
   ]
  },
  {
   "cell_type": "code",
   "execution_count": 9,
   "metadata": {},
   "outputs": [],
   "source": [
    "stock = 'AAPL'\n",
    "headers = {'User-Agent': 'Mozilla/5.0 (Windows NT 10.0; Win64; x64) AppleWebKit/537.36 (KHTML, like Gecko) Chrome/71.0.3578.98 Safari/537.36'}\n",
    "url = 'https://finance.yahoo.com/quote/'+ stock + '/key-statistics?p=' + stock\n",
    "resp = requests.get(url, headers=headers, timeout=5).text\n",
    "soup = BeautifulSoup(resp, features='lxml')\n",
    "#soup"
   ]
  },
  {
   "cell_type": "markdown",
   "metadata": {
    "slideshow": {
     "slide_type": "subslide"
    }
   },
   "source": [
    "### Challenges\n",
    "- Web Scraping didn't work and a header had to be added to simulate a Webbrowser Request\n",
    "- Calculations could not be carried out as key figures did not provide plausible results due to the crisis or \"special\" dividend strategy of the companies"
   ]
  },
  {
   "cell_type": "markdown",
   "metadata": {
    "slideshow": {
     "slide_type": "slide"
    }
   },
   "source": [
    "### Conditions:\n",
    "- All information is given \"before\" taxes\n",
    "- Currency is EUR as all Economic Forcast data is based on Euro-Area and Currancy Risk Calculations are not included\n",
    "- Evaluation is restricted to European Companies (growing with European Market)\n",
    "- Restricted to \"Value Companies\" as CAPM will not give reliable results on \"Growth Companies\" or companies with negative financial results\n"
   ]
  },
  {
   "cell_type": "markdown",
   "metadata": {
    "slideshow": {
     "slide_type": "slide"
    }
   },
   "source": [
    "#### Further development\n",
    "- Make the Economic Forecast truly global\n",
    "- Include Currency Risk Calculations\n",
    "- Develop the scraping method more flexible and analytic to be ready for any Webpage Changes\n",
    "- Include more interactions with the user to let her adjust the calculated data (like Growth Rate example)\n",
    "- Include more models and other evaluation tools"
   ]
  }
 ],
 "metadata": {
  "celltoolbar": "Slideshow",
  "kernelspec": {
   "display_name": "Python 3",
   "language": "python",
   "name": "python3"
  },
  "language_info": {
   "codemirror_mode": {
    "name": "ipython",
    "version": 3
   },
   "file_extension": ".py",
   "mimetype": "text/x-python",
   "name": "python",
   "nbconvert_exporter": "python",
   "pygments_lexer": "ipython3",
   "version": "3.8.5"
  }
 },
 "nbformat": 4,
 "nbformat_minor": 4
}
