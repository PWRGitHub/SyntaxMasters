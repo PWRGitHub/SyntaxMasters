{
 "cells": [
  {
   "cell_type": "markdown",
   "metadata": {
    "slideshow": {
     "slide_type": "slide"
    }
   },
   "source": [
    "# Syntax Masters\n",
    "# CAPM - Capital Asset Pricing Model\n",
    "## Idea of the program:\n",
    "## Finding an entry price for investment into a chosen stock"
   ]
  },
  {
   "cell_type": "markdown",
   "metadata": {
    "slideshow": {
     "slide_type": "slide"
    }
   },
   "source": [
    "### In finance, the capital asset pricing model (CAPM) is a model used to determine a theoretically appropriate required rate of return of an asset.\n",
    "\n",
    "#### 1. Expected Market Return\n",
    "Expacted Market Return = GDP growth (real) +  Expected Inflation Rate\n",
    "\n",
    "#### 2. Risk Premium for the Investor\n",
    "Risk Premium = Expacted Market Return - Risk Free Rate\n",
    "\n",
    "#### 3. Required Rate Of Return\n",
    "Required Rate of Return = Risk Premium x Beta"
   ]
  },
  {
   "cell_type": "markdown",
   "metadata": {
    "slideshow": {
     "slide_type": "subslide"
    }
   },
   "source": [
    "### In finance, the capital asset pricing model (CAPM) is a model used to determine a theoretically appropriate required rate of return of an asset.\n",
    "\n",
    "#### 4. Percentage Of Retained Earnings\n",
    "Percentage of Reteined Earnings = (Earnings per Share - Dividend) / Earnings per Share\n",
    "\n",
    "#### 5. Dividend Growth Rate\n",
    "Growth Rate = Return on Equity(In Percent) x Percentage of Retained Earnings"
   ]
  },
  {
   "cell_type": "markdown",
   "metadata": {
    "slideshow": {
     "slide_type": "subslide"
    }
   },
   "source": [
    "### In finance, the capital asset pricing model (CAPM) is a model used to determine a theoretically appropriate required rate of return of an asset.\n",
    "\n",
    "#### 6. Value of the Stock\n",
    "Value = Dividend / (Required Rate of Return - Growth Rate)"
   ]
  },
  {
   "cell_type": "markdown",
   "metadata": {
    "slideshow": {
     "slide_type": "slide"
    }
   },
   "source": [
    "#### Scraping from the net"
   ]
  },
  {
   "cell_type": "code",
   "execution_count": null,
   "metadata": {},
   "outputs": [],
   "source": [
    "html = urlopen(\"https://www.marketwatch.com/investing/bond/tmbmkde-10y?countrycode=bx\").read()\n",
    "soup = BeautifulSoup(html, features='lxml')\n",
    "\n",
    "Tenyearbond = soup.select_one('body > div.container.container--body > div.region.region--intraday > div.column.column--aside > div > div.intraday__close > table > tbody > tr > td').text\n",
    "#st.write(\"Ten Year Bond: \"'\\n' + Tenyearbond)"
   ]
  },
  {
   "cell_type": "markdown",
   "metadata": {
    "slideshow": {
     "slide_type": "slide"
    }
   },
   "source": [
    "#### Converting the scraped data"
   ]
  },
  {
   "cell_type": "code",
   "execution_count": null,
   "metadata": {},
   "outputs": [],
   "source": [
    "Tenyearbond = Tenyearbond.replace(\"%\",\"\")\n",
    "Tenyearbond = float(Tenyearbond)/100\n",
    "st.write ('The converted Ten Year Bond (decimal):  ' + str(Tenyearbond))"
   ]
  },
  {
   "cell_type": "markdown",
   "metadata": {
    "slideshow": {
     "slide_type": "slide"
    }
   },
   "source": [
    "#### Using yfinance module\n",
    "Yahoo! Finance market data downloader\n",
    "https://pypi.org/project/yfinance/"
   ]
  },
  {
   "cell_type": "code",
   "execution_count": 15,
   "metadata": {},
   "outputs": [
    {
     "ename": "JSONDecodeError",
     "evalue": "Expecting value: line 1 column 1 (char 0)",
     "output_type": "error",
     "traceback": [
      "\u001b[1;31m---------------------------------------------------------------------------\u001b[0m",
      "\u001b[1;31mJSONDecodeError\u001b[0m                           Traceback (most recent call last)",
      "\u001b[1;32m<ipython-input-15-dace1ca2da4e>\u001b[0m in \u001b[0;36m<module>\u001b[1;34m\u001b[0m\n\u001b[0;32m      2\u001b[0m \u001b[1;33m\u001b[0m\u001b[0m\n\u001b[0;32m      3\u001b[0m \u001b[0mstock\u001b[0m \u001b[1;33m=\u001b[0m \u001b[1;34m'AAPL'\u001b[0m\u001b[1;33m\u001b[0m\u001b[1;33m\u001b[0m\u001b[0m\n\u001b[1;32m----> 4\u001b[1;33m \u001b[0mprint\u001b[0m \u001b[1;33m(\u001b[0m\u001b[0myf\u001b[0m\u001b[1;33m.\u001b[0m\u001b[0mTicker\u001b[0m\u001b[1;33m(\u001b[0m\u001b[0mstock\u001b[0m\u001b[1;33m)\u001b[0m\u001b[1;33m.\u001b[0m\u001b[0mdividends\u001b[0m\u001b[1;33m)\u001b[0m\u001b[1;33m\u001b[0m\u001b[1;33m\u001b[0m\u001b[0m\n\u001b[0m",
      "\u001b[1;32m~\\anaconda3\\lib\\site-packages\\yfinance\\ticker.py\u001b[0m in \u001b[0;36mdividends\u001b[1;34m(self)\u001b[0m\n\u001b[0;32m    124\u001b[0m     \u001b[1;33m@\u001b[0m\u001b[0mproperty\u001b[0m\u001b[1;33m\u001b[0m\u001b[1;33m\u001b[0m\u001b[0m\n\u001b[0;32m    125\u001b[0m     \u001b[1;32mdef\u001b[0m \u001b[0mdividends\u001b[0m\u001b[1;33m(\u001b[0m\u001b[0mself\u001b[0m\u001b[1;33m)\u001b[0m\u001b[1;33m:\u001b[0m\u001b[1;33m\u001b[0m\u001b[1;33m\u001b[0m\u001b[0m\n\u001b[1;32m--> 126\u001b[1;33m         \u001b[1;32mreturn\u001b[0m \u001b[0mself\u001b[0m\u001b[1;33m.\u001b[0m\u001b[0mget_dividends\u001b[0m\u001b[1;33m(\u001b[0m\u001b[1;33m)\u001b[0m\u001b[1;33m\u001b[0m\u001b[1;33m\u001b[0m\u001b[0m\n\u001b[0m\u001b[0;32m    127\u001b[0m \u001b[1;33m\u001b[0m\u001b[0m\n\u001b[0;32m    128\u001b[0m     \u001b[1;33m@\u001b[0m\u001b[0mproperty\u001b[0m\u001b[1;33m\u001b[0m\u001b[1;33m\u001b[0m\u001b[0m\n",
      "\u001b[1;32m~\\anaconda3\\lib\\site-packages\\yfinance\\base.py\u001b[0m in \u001b[0;36mget_dividends\u001b[1;34m(self, proxy)\u001b[0m\n\u001b[0;32m    535\u001b[0m     \u001b[1;32mdef\u001b[0m \u001b[0mget_dividends\u001b[0m\u001b[1;33m(\u001b[0m\u001b[0mself\u001b[0m\u001b[1;33m,\u001b[0m \u001b[0mproxy\u001b[0m\u001b[1;33m=\u001b[0m\u001b[1;32mNone\u001b[0m\u001b[1;33m)\u001b[0m\u001b[1;33m:\u001b[0m\u001b[1;33m\u001b[0m\u001b[1;33m\u001b[0m\u001b[0m\n\u001b[0;32m    536\u001b[0m         \u001b[1;32mif\u001b[0m \u001b[0mself\u001b[0m\u001b[1;33m.\u001b[0m\u001b[0m_history\u001b[0m \u001b[1;32mis\u001b[0m \u001b[1;32mNone\u001b[0m\u001b[1;33m:\u001b[0m\u001b[1;33m\u001b[0m\u001b[1;33m\u001b[0m\u001b[0m\n\u001b[1;32m--> 537\u001b[1;33m             \u001b[0mself\u001b[0m\u001b[1;33m.\u001b[0m\u001b[0mhistory\u001b[0m\u001b[1;33m(\u001b[0m\u001b[0mperiod\u001b[0m\u001b[1;33m=\u001b[0m\u001b[1;34m\"max\"\u001b[0m\u001b[1;33m,\u001b[0m \u001b[0mproxy\u001b[0m\u001b[1;33m=\u001b[0m\u001b[0mproxy\u001b[0m\u001b[1;33m)\u001b[0m\u001b[1;33m\u001b[0m\u001b[1;33m\u001b[0m\u001b[0m\n\u001b[0m\u001b[0;32m    538\u001b[0m         \u001b[1;32mif\u001b[0m \u001b[0mself\u001b[0m\u001b[1;33m.\u001b[0m\u001b[0m_history\u001b[0m \u001b[1;32mis\u001b[0m \u001b[1;32mnot\u001b[0m \u001b[1;32mNone\u001b[0m \u001b[1;32mand\u001b[0m \u001b[1;34m\"Dividends\"\u001b[0m \u001b[1;32min\u001b[0m \u001b[0mself\u001b[0m\u001b[1;33m.\u001b[0m\u001b[0m_history\u001b[0m\u001b[1;33m:\u001b[0m\u001b[1;33m\u001b[0m\u001b[1;33m\u001b[0m\u001b[0m\n\u001b[0;32m    539\u001b[0m             \u001b[0mdividends\u001b[0m \u001b[1;33m=\u001b[0m \u001b[0mself\u001b[0m\u001b[1;33m.\u001b[0m\u001b[0m_history\u001b[0m\u001b[1;33m[\u001b[0m\u001b[1;34m\"Dividends\"\u001b[0m\u001b[1;33m]\u001b[0m\u001b[1;33m\u001b[0m\u001b[1;33m\u001b[0m\u001b[0m\n",
      "\u001b[1;32m~\\anaconda3\\lib\\site-packages\\yfinance\\base.py\u001b[0m in \u001b[0;36mhistory\u001b[1;34m(self, period, interval, start, end, prepost, actions, auto_adjust, back_adjust, proxy, rounding, tz, **kwargs)\u001b[0m\n\u001b[0;32m    155\u001b[0m                                \u001b[1;34m\"Our engineers are working quickly to resolve \"\u001b[0m\u001b[1;33m\u001b[0m\u001b[1;33m\u001b[0m\u001b[0m\n\u001b[0;32m    156\u001b[0m                                \"the issue. Thank you for your patience.\")\n\u001b[1;32m--> 157\u001b[1;33m         \u001b[0mdata\u001b[0m \u001b[1;33m=\u001b[0m \u001b[0mdata\u001b[0m\u001b[1;33m.\u001b[0m\u001b[0mjson\u001b[0m\u001b[1;33m(\u001b[0m\u001b[1;33m)\u001b[0m\u001b[1;33m\u001b[0m\u001b[1;33m\u001b[0m\u001b[0m\n\u001b[0m\u001b[0;32m    158\u001b[0m \u001b[1;33m\u001b[0m\u001b[0m\n\u001b[0;32m    159\u001b[0m         \u001b[1;31m# Work with errors\u001b[0m\u001b[1;33m\u001b[0m\u001b[1;33m\u001b[0m\u001b[1;33m\u001b[0m\u001b[0m\n",
      "\u001b[1;32m~\\anaconda3\\lib\\site-packages\\requests\\models.py\u001b[0m in \u001b[0;36mjson\u001b[1;34m(self, **kwargs)\u001b[0m\n\u001b[0;32m    896\u001b[0m                     \u001b[1;31m# used.\u001b[0m\u001b[1;33m\u001b[0m\u001b[1;33m\u001b[0m\u001b[1;33m\u001b[0m\u001b[0m\n\u001b[0;32m    897\u001b[0m                     \u001b[1;32mpass\u001b[0m\u001b[1;33m\u001b[0m\u001b[1;33m\u001b[0m\u001b[0m\n\u001b[1;32m--> 898\u001b[1;33m         \u001b[1;32mreturn\u001b[0m \u001b[0mcomplexjson\u001b[0m\u001b[1;33m.\u001b[0m\u001b[0mloads\u001b[0m\u001b[1;33m(\u001b[0m\u001b[0mself\u001b[0m\u001b[1;33m.\u001b[0m\u001b[0mtext\u001b[0m\u001b[1;33m,\u001b[0m \u001b[1;33m**\u001b[0m\u001b[0mkwargs\u001b[0m\u001b[1;33m)\u001b[0m\u001b[1;33m\u001b[0m\u001b[1;33m\u001b[0m\u001b[0m\n\u001b[0m\u001b[0;32m    899\u001b[0m \u001b[1;33m\u001b[0m\u001b[0m\n\u001b[0;32m    900\u001b[0m     \u001b[1;33m@\u001b[0m\u001b[0mproperty\u001b[0m\u001b[1;33m\u001b[0m\u001b[1;33m\u001b[0m\u001b[0m\n",
      "\u001b[1;32m~\\anaconda3\\lib\\json\\__init__.py\u001b[0m in \u001b[0;36mloads\u001b[1;34m(s, cls, object_hook, parse_float, parse_int, parse_constant, object_pairs_hook, **kw)\u001b[0m\n\u001b[0;32m    355\u001b[0m             \u001b[0mparse_int\u001b[0m \u001b[1;32mis\u001b[0m \u001b[1;32mNone\u001b[0m \u001b[1;32mand\u001b[0m \u001b[0mparse_float\u001b[0m \u001b[1;32mis\u001b[0m \u001b[1;32mNone\u001b[0m \u001b[1;32mand\u001b[0m\u001b[1;33m\u001b[0m\u001b[1;33m\u001b[0m\u001b[0m\n\u001b[0;32m    356\u001b[0m             parse_constant is None and object_pairs_hook is None and not kw):\n\u001b[1;32m--> 357\u001b[1;33m         \u001b[1;32mreturn\u001b[0m \u001b[0m_default_decoder\u001b[0m\u001b[1;33m.\u001b[0m\u001b[0mdecode\u001b[0m\u001b[1;33m(\u001b[0m\u001b[0ms\u001b[0m\u001b[1;33m)\u001b[0m\u001b[1;33m\u001b[0m\u001b[1;33m\u001b[0m\u001b[0m\n\u001b[0m\u001b[0;32m    358\u001b[0m     \u001b[1;32mif\u001b[0m \u001b[0mcls\u001b[0m \u001b[1;32mis\u001b[0m \u001b[1;32mNone\u001b[0m\u001b[1;33m:\u001b[0m\u001b[1;33m\u001b[0m\u001b[1;33m\u001b[0m\u001b[0m\n\u001b[0;32m    359\u001b[0m         \u001b[0mcls\u001b[0m \u001b[1;33m=\u001b[0m \u001b[0mJSONDecoder\u001b[0m\u001b[1;33m\u001b[0m\u001b[1;33m\u001b[0m\u001b[0m\n",
      "\u001b[1;32m~\\anaconda3\\lib\\json\\decoder.py\u001b[0m in \u001b[0;36mdecode\u001b[1;34m(self, s, _w)\u001b[0m\n\u001b[0;32m    335\u001b[0m \u001b[1;33m\u001b[0m\u001b[0m\n\u001b[0;32m    336\u001b[0m         \"\"\"\n\u001b[1;32m--> 337\u001b[1;33m         \u001b[0mobj\u001b[0m\u001b[1;33m,\u001b[0m \u001b[0mend\u001b[0m \u001b[1;33m=\u001b[0m \u001b[0mself\u001b[0m\u001b[1;33m.\u001b[0m\u001b[0mraw_decode\u001b[0m\u001b[1;33m(\u001b[0m\u001b[0ms\u001b[0m\u001b[1;33m,\u001b[0m \u001b[0midx\u001b[0m\u001b[1;33m=\u001b[0m\u001b[0m_w\u001b[0m\u001b[1;33m(\u001b[0m\u001b[0ms\u001b[0m\u001b[1;33m,\u001b[0m \u001b[1;36m0\u001b[0m\u001b[1;33m)\u001b[0m\u001b[1;33m.\u001b[0m\u001b[0mend\u001b[0m\u001b[1;33m(\u001b[0m\u001b[1;33m)\u001b[0m\u001b[1;33m)\u001b[0m\u001b[1;33m\u001b[0m\u001b[1;33m\u001b[0m\u001b[0m\n\u001b[0m\u001b[0;32m    338\u001b[0m         \u001b[0mend\u001b[0m \u001b[1;33m=\u001b[0m \u001b[0m_w\u001b[0m\u001b[1;33m(\u001b[0m\u001b[0ms\u001b[0m\u001b[1;33m,\u001b[0m \u001b[0mend\u001b[0m\u001b[1;33m)\u001b[0m\u001b[1;33m.\u001b[0m\u001b[0mend\u001b[0m\u001b[1;33m(\u001b[0m\u001b[1;33m)\u001b[0m\u001b[1;33m\u001b[0m\u001b[1;33m\u001b[0m\u001b[0m\n\u001b[0;32m    339\u001b[0m         \u001b[1;32mif\u001b[0m \u001b[0mend\u001b[0m \u001b[1;33m!=\u001b[0m \u001b[0mlen\u001b[0m\u001b[1;33m(\u001b[0m\u001b[0ms\u001b[0m\u001b[1;33m)\u001b[0m\u001b[1;33m:\u001b[0m\u001b[1;33m\u001b[0m\u001b[1;33m\u001b[0m\u001b[0m\n",
      "\u001b[1;32m~\\anaconda3\\lib\\json\\decoder.py\u001b[0m in \u001b[0;36mraw_decode\u001b[1;34m(self, s, idx)\u001b[0m\n\u001b[0;32m    353\u001b[0m             \u001b[0mobj\u001b[0m\u001b[1;33m,\u001b[0m \u001b[0mend\u001b[0m \u001b[1;33m=\u001b[0m \u001b[0mself\u001b[0m\u001b[1;33m.\u001b[0m\u001b[0mscan_once\u001b[0m\u001b[1;33m(\u001b[0m\u001b[0ms\u001b[0m\u001b[1;33m,\u001b[0m \u001b[0midx\u001b[0m\u001b[1;33m)\u001b[0m\u001b[1;33m\u001b[0m\u001b[1;33m\u001b[0m\u001b[0m\n\u001b[0;32m    354\u001b[0m         \u001b[1;32mexcept\u001b[0m \u001b[0mStopIteration\u001b[0m \u001b[1;32mas\u001b[0m \u001b[0merr\u001b[0m\u001b[1;33m:\u001b[0m\u001b[1;33m\u001b[0m\u001b[1;33m\u001b[0m\u001b[0m\n\u001b[1;32m--> 355\u001b[1;33m             \u001b[1;32mraise\u001b[0m \u001b[0mJSONDecodeError\u001b[0m\u001b[1;33m(\u001b[0m\u001b[1;34m\"Expecting value\"\u001b[0m\u001b[1;33m,\u001b[0m \u001b[0ms\u001b[0m\u001b[1;33m,\u001b[0m \u001b[0merr\u001b[0m\u001b[1;33m.\u001b[0m\u001b[0mvalue\u001b[0m\u001b[1;33m)\u001b[0m \u001b[1;32mfrom\u001b[0m \u001b[1;32mNone\u001b[0m\u001b[1;33m\u001b[0m\u001b[1;33m\u001b[0m\u001b[0m\n\u001b[0m\u001b[0;32m    356\u001b[0m         \u001b[1;32mreturn\u001b[0m \u001b[0mobj\u001b[0m\u001b[1;33m,\u001b[0m \u001b[0mend\u001b[0m\u001b[1;33m\u001b[0m\u001b[1;33m\u001b[0m\u001b[0m\n",
      "\u001b[1;31mJSONDecodeError\u001b[0m: Expecting value: line 1 column 1 (char 0)"
     ]
    }
   ],
   "source": [
    "import yfinance as yf\n",
    "\n",
    "stock = 'AAPL'\n",
    "print (yf.Ticker(stock).dividends)"
   ]
  },
  {
   "cell_type": "code",
   "execution_count": null,
   "metadata": {
    "slideshow": {
     "slide_type": "slide"
    }
   },
   "outputs": [],
   "source": [
    "%%writefile capm.py\n",
    "\n",
    "from bs4 import BeautifulSoup\n",
    "from urllib.request import urlopen\n",
    "import requests \n",
    "from lxml import html\n",
    "import yfinance as yf\n",
    "import streamlit as st\n",
    "\n",
    "st.header('Syntax Masters')\n",
    "st.image('./CAPM_Bild.jpg')\n",
    "st.subheader(\"Our program uses the CAPM (Capital Asset Pricing Model) in order to give our users the ability to make a data based decision on entering the stock market in a specific stock or not\")\n",
    "\n",
    "stock = str(st.text_input(\"Please write the ticker of the company that you're looking for: \"))\n",
    "if not stock:\n",
    "    st.warning('Please input a stock ticker!')\n",
    "    st.stop()\n",
    "st.success('Thank you for inputting a stock ticker.')\n",
    "st.write(\"You are looking for this Stock: \", stock)\n",
    "\n",
    "yearGdp = st.number_input('Would You like to change the year for the Economic Data (2020-2022)? ', value=2021)\n",
    "st.write(yearGdp, type(yearGdp))\n",
    "#yearGdp = st.text_input(\"Which year are you looking for?: \")\n",
    "#yearGdp = int(yearGdp)\n",
    "st.write(\"We will use the Year: \", yearGdp)\n",
    "\n",
    "\n",
    "headers={'User-Agent': 'Mozilla/5.0 (Windows NT 10.0; Win64; x64) AppleWebKit/537.36 (KHTML, like Gecko) Chrome/71.0.3578.98 Safari/537.36'}\n",
    "url = 'https://finance.yahoo.com/quote/'+ stock + '/key-statistics?p=' + stock\n",
    "resp = requests.get(url, headers=headers, timeout=5).text\n",
    "soup = BeautifulSoup(resp, features='lxml')\n",
    "\n",
    "beta = soup.select_one('#Col1-0-KeyStatistics-Proxy > section > div.Mstart\\(a\\).Mend\\(a\\) > div.Fl\\(end\\).W\\(50\\%\\).smartphone_W\\(100\\%\\) > div > div:nth-child(1) > div > div > table > tbody > tr.Bxz\\(bb\\).H\\(36px\\).BdY.Bdc\\(\\$seperatorColor\\) > td.Fw\\(500\\).Ta\\(end\\).Pstart\\(10px\\).Miw\\(60px\\)').text\n",
    "st.write (\"Beta \" +stock+\": \"'\\n' + beta)\n",
    "\n",
    "companystock = soup.select_one('#quote-header-info > div.My\\(6px\\).Pos\\(r\\).smartphone_Mt\\(6px\\) > div.D\\(ib\\).Va\\(m\\).Maw\\(65\\%\\).Ov\\(h\\) > div > span.Trsdu\\(0\\.3s\\).Fw\\(b\\).Fz\\(36px\\).Mb\\(-4px\\).D\\(ib\\)').text\n",
    "#st.write (\"stock \" +stock+\": \"'\\n' + companystock)\n",
    "\n",
    "ReturnOnEquity = soup.select_one('#Col1-0-KeyStatistics-Proxy > section > div.Mstart\\(a\\).Mend\\(a\\) > div:nth-child(3) > div > div:nth-child(3) > div > div > table > tbody > tr.Bxz\\(bb\\).H\\(36px\\).BdB.Bdbc\\(\\$seperatorColor\\) > td.Fw\\(500\\).Ta\\(end\\).Pstart\\(10px\\).Miw\\(60px\\)').text\n",
    "#print(\"Return On Equity \" +stock+ \":\" '\\n' + ReturnOnEquity) \n",
    "\n",
    "DividendRate = soup.select_one('#Col1-0-KeyStatistics-Proxy > section > div.Mstart\\(a\\).Mend\\(a\\) > div.Fl\\(end\\).W\\(50\\%\\).smartphone_W\\(100\\%\\) > div > div:nth-child(3) > div > div > table > tbody > tr:nth-child(3) > td.Fw\\(500\\).Ta\\(end\\).Pstart\\(10px\\).Miw\\(60px\\)').text\n",
    "#print(\"Dividend Rate \" +stock+ \":\" '\\n' + DividendRate)\n",
    "\n",
    "EPS = soup.select_one('#Col1-0-KeyStatistics-Proxy > section > div.Mstart\\(a\\).Mend\\(a\\) > div:nth-child(3) > div > div:nth-child(4) > div > div > table > tbody > tr:nth-child(7) > td.Fw\\(500\\).Ta\\(end\\).Pstart\\(10px\\).Miw\\(60px\\)').text\n",
    "#print(\"EPS \" +stock+ \":\" '\\n' + EPS)\n",
    "\n",
    "\n",
    "html = urlopen (\"https://ec.europa.eu/info/business-economy-euro/economic-performance-and-forecasts/economic-performance-country/euro-area_en\").read()\n",
    "soup = BeautifulSoup(html, features='lxml')\n",
    "\n",
    "if yearGdp == 2020:\n",
    "    GDPgrowth = soup.select_one('#block-system-main > div > div > div.page-content > div > div > section > div > div > div > table > tbody > tr:nth-child(1) > td:nth-child(3)').text\n",
    "    #st.write(\"Expected GDP Growth 2020: \"'\\n' + GDPgrowth)\n",
    "\n",
    "    Inflationrate = soup.select_one('#block-system-main > div > div > div.page-content > div > div > section > div > div > div > table > tbody > tr:nth-child(2) > td:nth-child(3)').text\n",
    "    #st.write(\"Expected Inflation Rate 2020: \"'\\n' + Inflationrate)\n",
    "elif yearGdp == 2021:\n",
    "    GDPgrowth = soup.select_one('#block-system-main > div > div > div.page-content > div > div > section > div > div > div > table > tbody > tr:nth-child(1) > td:nth-child(4)').text\n",
    "    #st.write(\"expected GDP Growth 2021: \"'\\n' + GDPgrowth)\n",
    "\n",
    "    Inflationrate = soup.select_one('#block-system-main > div > div > div.page-content > div > div > section > div > div > div > table > tbody > tr:nth-child(2) > td:nth-child(4)').text\n",
    "    #st.write(\"Expected Inflation rate 2021:\"'\\n' + Inflationrate)\n",
    "elif yearGdp == 2022:\n",
    "    GDPgrowth = soup.select_one('#block-system-main > div > div > div.page-content > div > div > section > div > div > div > table > tbody > tr:nth-child(1) > td:nth-child(5)').text\n",
    "    #st.write(\"Expected GDP Growth 2022: \" '\\n' + GDPgrowth)\n",
    "\n",
    "    Inflationrate = soup.select_one('#block-system-main > div > div > div.page-content > div > div > section > div > div > div > table > tbody > tr:nth-child(2) > td:nth-child(5)').text\n",
    "    #st.write(\"Inflation Rate 2022: \"'\\n' + Inflationrate)\n",
    "else:\n",
    "    #st.write(\"Please choose a year between 2020 and 2022\")\n",
    "    if yearGdp <= 2020 or yearGdp >= 2022:\n",
    "        st.warning('Please choose a year between 2020 and 2022!')\n",
    "        st.stop()\n",
    "\n",
    "        \n",
    "html = urlopen(\"https://www.marketwatch.com/investing/bond/tmbmkde-10y?countrycode=bx\").read()\n",
    "soup = BeautifulSoup(html, features='lxml')\n",
    "\n",
    "Tenyearbond = soup.select_one('body > div.container.container--body > div.region.region--intraday > div.column.column--aside > div > div.intraday__close > table > tbody > tr > td').text\n",
    "#st.write(\"Ten Year Bond: \"'\\n' + Tenyearbond)\n",
    "\n",
    "#Converting the scraped data from strings to floats\n",
    "GDPgrowth = float(GDPgrowth.replace(\",\", \".\"))\n",
    "st.write ('')\n",
    "st.write ('The converted GDP Growth is:            ' + str(GDPgrowth) + '%')\n",
    "\n",
    "Inflationrate = float(Inflationrate.replace(\",\", \".\"))\n",
    "st.write ('The converted Inflationrate is:         ' + str(Inflationrate) + '%')\n",
    "\n",
    "Tenyearbond = Tenyearbond.replace(\"%\",\"\")\n",
    "Tenyearbond = float(Tenyearbond)/100\n",
    "st.write ('The converted Ten Year Bond (decimal):  ' + str(Tenyearbond))\n",
    "\n",
    "beta = beta.replace(\",\", \".\")\n",
    "beta = float(beta)\n",
    "st.write ('The converted Beta (factor):            ' + str(beta))\n",
    "\n",
    "EPS = EPS.replace(\",\", \".\")\n",
    "EPS = float(EPS)\n",
    "st.write ('The converted Earnings per share (EPS): ' + str(EPS))\n",
    "\n",
    "DividendRate = DividendRate.replace(\",\", \".\")\n",
    "DividendPerShare = float(DividendRate)             #!!! DividendRate in yahoo.finance is dividend per share!\n",
    "st.write ('The converted Dividend per share:       ' + str(DividendPerShare))\n",
    "\n",
    "ReturnOnEquity = ReturnOnEquity.replace(\"%\", \"\")\n",
    "ReturnOnEquity = ReturnOnEquity.replace(\",\", \".\")\n",
    "ReturnOnEquity = float(ReturnOnEquity)/100\n",
    "st.write ('The Return on equity (decimal):         ' + str(ReturnOnEquity))\n",
    "st.write ('')\n",
    "\n",
    "\n",
    "##CALCULATIONS\n",
    "# calculate Expected Market Return\n",
    "# ExpactedMarketReturn = GDP growth (real) +  Expected Inflation Rate\n",
    "ExpectedMarketReturn = GDPgrowth + Inflationrate\n",
    "st.write(\"This is the Expected Market Return:                    \" + str(ExpectedMarketReturn))\n",
    "\n",
    "# calculate  Risk Premium for the Investor.\n",
    "# Risk Premium= ExpMarketReturn - RiskFreeRate\n",
    "Riskpremium = ExpectedMarketReturn - Tenyearbond\n",
    "st.write(\"This is the Risk Premium for the investor:             \" + str(Riskpremium))\n",
    "\n",
    "# calculate Required Rate Of Return\n",
    "# RequiredRateOfReturn = RiskPremium x Beta\n",
    "RequiredReturRate = Riskpremium * beta / 100\n",
    "st.write(\"This is the Required Rate of Return (decimal):         \" + str(RequiredReturRate))\n",
    "\n",
    "# calculate Percentage Of Retained Earnings\n",
    "# PercentageOFReteinedEarnings = (EarningsPerShare - Dividend) / EarningsPerShare\n",
    "PercentRetainedEarnings = (EPS - DividendPerShare) / EPS\n",
    "st.write(\"This is the Percentage of Retained Earnings (decimal): \" + str(PercentRetainedEarnings))\n",
    "\n",
    "# calculate Dividend Growth Rate\n",
    "# growthRate = ReturnOnEquity(In Percent) x PercentageOfRetainedEarnings\n",
    "DivGrowthRate = ReturnOnEquity * PercentRetainedEarnings\n",
    "st.write(\"This is the Dividend Growth Rate (decimal):            \" + str(DivGrowthRate))\n",
    "\n",
    "\n",
    "# calculate Value of the Stock\n",
    "# Value = dividend / (required rate of return - growth rate)\n",
    "if DivGrowthRate > (RequiredReturRate * 0.85):\n",
    "    st.write ('!!!')\n",
    "    st.write ('The Dividend Growth Rate is to close (85%) or higher than your Required Return Rate.')\n",
    "    st.write ('The CAPM Model will not work in this case.')\n",
    "    st.write ('The dividents in the last years were: ')\n",
    "    st.write (yf.Ticker(stock).dividends)\n",
    "    st.bar_chart(yf.Ticker(stock).dividends)\n",
    "    DivGrowthRate = st.text_input ('Please examine the company and type in which Divident Growth Rate You would like to use (decimal with DOT!): ')\n",
    "    if not DivGrowthRate:\n",
    "        st.warning('Please enter your estimate for the Dividend Growth Rate!')\n",
    "        st.stop()\n",
    "    st.success('Thank you for your selection!')\n",
    "DivGrowthRate = float (DivGrowthRate)\n",
    "StockValue = DividendPerShare / (RequiredReturRate - DivGrowthRate)\n",
    "st.write(\"This is the Stock Value:                               \" + str(StockValue))\n",
    "st.write (\"The actual price for \" +stock+\": \"'\\n' + companystock)\n"
   ]
  },
  {
   "cell_type": "markdown",
   "metadata": {
    "slideshow": {
     "slide_type": "slide"
    }
   },
   "source": [
    "Challenges / Conditions:\n",
    "\n",
    "Taxes -> current stage: Give all information before taxes\n",
    "Currency -> current stage: Use EUR and Euro - zone Market\n",
    "Kind of Stock (Growth vs value): How to calculate with with/without dividend\n",
    "Current stage: Only dividends (value) titles and not growth titles\n",
    "Risk free interest: Current stage: Program so that the program takes the risk free interest from a website that regularly updates the current market risk free interest\n",
    "Expected Market Return: Current Stage: Many different ways to calculate / extract from the internet. Either calculate or extract as risk free interest. Important: Watch that it is in alignment with globally USD figures as in the above\n"
   ]
  }
 ],
 "metadata": {
  "celltoolbar": "Slideshow",
  "kernelspec": {
   "display_name": "Python 3",
   "language": "python",
   "name": "python3"
  },
  "language_info": {
   "codemirror_mode": {
    "name": "ipython",
    "version": 3
   },
   "file_extension": ".py",
   "mimetype": "text/x-python",
   "name": "python",
   "nbconvert_exporter": "python",
   "pygments_lexer": "ipython3",
   "version": "3.8.5"
  }
 },
 "nbformat": 4,
 "nbformat_minor": 4
}
