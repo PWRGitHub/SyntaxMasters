{
 "cells": [
  {
   "cell_type": "code",
   "execution_count": null,
   "metadata": {},
   "outputs": [],
   "source": [
    "# FUNCTION: “GET FROM INTERNET” \n",
    "# Funktion needs (Stock, YearGDP)\n",
    "# scrape from the net:\n",
    "# GDP growth (real)\n",
    "# Expected Inflation Rate, https://ec.europa.eu/info/business-economy-euro/economic-performance-and-forecasts/economic-performance-country/euro-area_en\n",
    "# Beta for the stock\n",
    "# dividend for the stock\n",
    "# German 10 Year Bond Rate (-0,25%)\n",
    "# Return On Equity (In Percent)\n",
    "#\n",
    "# check data is usable type, change type if needed.\n",
    "#\n",
    "# FUNCTION RETURN: (GDP Growth, ExpInflRate, Beta, Dividend, GerTenYRate, ROE)"
   ]
  }
 ],
 "metadata": {
  "kernelspec": {
   "display_name": "Python 3",
   "language": "python",
   "name": "python3"
  },
  "language_info": {
   "codemirror_mode": {
    "name": "ipython",
    "version": 3
   },
   "file_extension": ".py",
   "mimetype": "text/x-python",
   "name": "python",
   "nbconvert_exporter": "python",
   "pygments_lexer": "ipython3",
   "version": "3.8.5"
  }
 },
 "nbformat": 4,
 "nbformat_minor": 4
}
