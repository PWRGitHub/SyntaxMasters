{
 "cells": [
  {
   "cell_type": "code",
   "execution_count": 1,
   "metadata": {},
   "outputs": [
    {
     "name": "stdout",
     "output_type": "stream",
     "text": [
      "Please write the stock company that you're looking for: Apple\n",
      "Which year are you looking for?: 2021\n",
      "Beta Apple: \n",
      "1,21\n",
      "stock Apple: \n",
      "130,46\n",
      "Expected GDP Growth 2020: \n",
      "-6,6\n",
      "Expected Inflation Rate 2020: \n",
      "0,3\n",
      "expected GDP Growth 2021: \n",
      "4,3\n",
      "Expected Inflation rate 2021:\n",
      "1,7\n",
      "Expected GDP Growth 2022: \n",
      "4,4\n",
      "Inflation Rate 2022: \n",
      "1,3\n",
      "Return On Equity: \n",
      "103.40%\n",
      "Dividend Rate: \n",
      "0.82\n",
      "Ten Year Bond: \n",
      "-0.199%\n"
     ]
    },
    {
     "data": {
      "text/plain": [
       "'1,21'"
      ]
     },
     "execution_count": 1,
     "metadata": {},
     "output_type": "execute_result"
    }
   ],
   "source": [
    "from bs4 import BeautifulSoup\n",
    "from urllib.request import urlopen\n",
    "\n",
    "html = urlopen(\"https://de.finance.yahoo.com/quote/AAPL?p=AAPL&.tsrc=fin-srch\").read()\n",
    "soup = BeautifulSoup(html, features='lxml')\n",
    "\n",
    "\n",
    "title = soup.find('h1').text\n",
    "\n",
    "#Ask user\n",
    "\n",
    "stock=str(input(\"Please write the stock company that you're looking for: \"))\n",
    "year=str(input(\"Which year are you looking for?: \"))\n",
    "\n",
    "def getFromInternet (stock,yearGbp):\n",
    "    html = urlopen(\"https://de.finance.yahoo.com/quote/AAPL?p=AAPL&.tsrc=fin-srch\").read()\n",
    "    soup = BeautifulSoup(html, features='lxml')\n",
    "    all_href = soup.find_all('a')\n",
    "    all_href = [l['href'] for l in all_href]\n",
    "\n",
    "    beta = soup.select_one('#quote-summary > div.D\\(ib\\).W\\(1\\/2\\).Bxz\\(bb\\).Pstart\\(12px\\).Va\\(t\\).ie-7_D\\(i\\).ie-7_Pos\\(a\\).smartphone_D\\(b\\).smartphone_W\\(100\\%\\).smartphone_Pstart\\(0px\\).smartphone_BdB.smartphone_Bdc\\(\\$seperatorColor\\) > table > tbody > tr:nth-child(2) > td.Ta\\(end\\).Fw\\(600\\).Lh\\(14px\\) > span').text\n",
    "    print (\"Beta Apple: \"'\\n' + beta)\n",
    "    \n",
    "\n",
    "    stock = soup.select_one('#quote-header-info > div.My\\(6px\\).Pos\\(r\\).smartphone_Mt\\(6px\\) > div.D\\(ib\\).Va\\(m\\).Maw\\(65\\%\\).Ov\\(h\\) > div > span.Trsdu\\(0\\.3s\\).Fw\\(b\\).Fz\\(36px\\).Mb\\(-4px\\).D\\(ib\\)').text\n",
    "    print (\"stock Apple: \"'\\n' + stock)\n",
    "\n",
    "    html = urlopen (\"https://ec.europa.eu/info/business-economy-euro/economic-performance-and-forecasts/economic-performance-country/euro-area_en\").read()\n",
    "    soup = BeautifulSoup(html, features='lxml')\n",
    "    GDPgrowth_2020 = soup.select_one('#block-system-main > div > div > div.page-content > div > div > section > div > div > div > table > tbody > tr:nth-child(1) > td:nth-child(3)').text\n",
    "    print(\"Expected GDP Growth 2020: \"'\\n' + GDPgrowth_2020)\n",
    "\n",
    "    Inflationrate_2020 = soup.select_one('#block-system-main > div > div > div.page-content > div > div > section > div > div > div > table > tbody > tr:nth-child(2) > td:nth-child(3)').text\n",
    "    print(\"Expected Inflation Rate 2020: \"'\\n' + Inflationrate_2020)\n",
    "\n",
    "    GDPgrowth_2021 = soup.select_one('#block-system-main > div > div > div.page-content > div > div > section > div > div > div > table > tbody > tr:nth-child(1) > td:nth-child(4)').text\n",
    "    print(\"expected GDP Growth 2021: \"'\\n' + GDPgrowth_2021)\n",
    "\n",
    "    Inflationrate_2021 = soup.select_one('#block-system-main > div > div > div.page-content > div > div > section > div > div > div > table > tbody > tr:nth-child(2) > td:nth-child(4)').text\n",
    "    print(\"Expected Inflation rate 2021:\"'\\n' + Inflationrate_2021)\n",
    "\n",
    "    GDPgrowth_2022 = soup.select_one('#block-system-main > div > div > div.page-content > div > div > section > div > div > div > table > tbody > tr:nth-child(1) > td:nth-child(5)').text\n",
    "    print(\"Expected GDP Growth 2022: \" '\\n' + GDPgrowth_2022)\n",
    "\n",
    "    Inflationrate_2022 = soup.select_one('#block-system-main > div > div > div.page-content > div > div > section > div > div > div > table > tbody > tr:nth-child(2) > td:nth-child(5)').text\n",
    "    print(\"Inflation Rate 2022: \"'\\n' + Inflationrate_2022)\n",
    "    \n",
    "    html = urlopen(\"https://finance.yahoo.com/quote/AAPL/key-statistics?p=AAPL\").read()\n",
    "    soup = BeautifulSoup(html, features='lxml')\n",
    "    \n",
    "    ReturnOnEquity = soup.select_one('#Col1-0-KeyStatistics-Proxy > section > div.Mstart\\(a\\).Mend\\(a\\) > div:nth-child(3) > div > div:nth-child(3) > div > div > table > tbody > tr.Bxz\\(bb\\).H\\(36px\\).BdB.Bdbc\\(\\$seperatorColor\\) > td.Fw\\(500\\).Ta\\(end\\).Pstart\\(10px\\).Miw\\(60px\\)').text\n",
    "    print(\"Return On Equity: \" '\\n' + ReturnOnEquity) \n",
    "    \n",
    "    DividendRate = soup.select_one('#Col1-0-KeyStatistics-Proxy > section > div.Mstart\\(a\\).Mend\\(a\\) > div.Fl\\(end\\).W\\(50\\%\\).smartphone_W\\(100\\%\\) > div > div:nth-child(3) > div > div > table > tbody > tr:nth-child(3) > td.Fw\\(500\\).Ta\\(end\\).Pstart\\(10px\\).Miw\\(60px\\)').text\n",
    "    print(\"Dividend Rate: \" '\\n' + DividendRate)\n",
    "    \n",
    "    html = urlopen(\"https://www.marketwatch.com/investing/bond/tmbmkde-10y?countrycode=bx\").read()\n",
    "    soup = BeautifulSoup(html, features='lxml')\n",
    "    \n",
    "    Tenyearbond = soup.select_one('body > div.container.container--body > div.region.region--intraday > div.column.column--aside > div > div.intraday__close > table > tbody > tr > td').text\n",
    "    print(\"Ten Year Bond: \"'\\n' + Tenyearbond)\n",
    "    \n",
    "    return beta\n",
    "    return GDPgrowth_2020\n",
    "    return stock\n",
    "    return Inflationrate_2022\n",
    "    return GDPgrowth_2021\n",
    "    return Inflationrate_2021\n",
    "    return Inflationrate_2020\n",
    "    return GDPgrowth_2022\n",
    "    return ReturnOnEquity\n",
    "    return DividendRate\n",
    "    return Tenyearbond\n",
    "\n",
    "getFromInternet(stock,year)    "
   ]
  },
  {
   "cell_type": "code",
   "execution_count": null,
   "metadata": {},
   "outputs": [],
   "source": []
  },
  {
   "cell_type": "code",
   "execution_count": null,
   "metadata": {},
   "outputs": [],
   "source": []
  }
 ],
 "metadata": {
  "kernelspec": {
   "display_name": "Python 3",
   "language": "python",
   "name": "python3"
  },
  "language_info": {
   "codemirror_mode": {
    "name": "ipython",
    "version": 3
   },
   "file_extension": ".py",
   "mimetype": "text/x-python",
   "name": "python",
   "nbconvert_exporter": "python",
   "pygments_lexer": "ipython3",
   "version": "3.8.5"
  }
 },
 "nbformat": 4,
 "nbformat_minor": 4
}
