{
 "cells": [
  {
   "cell_type": "code",
   "execution_count": 15,
   "metadata": {},
   "outputs": [
    {
     "name": "stdout",
     "output_type": "stream",
     "text": [
      "Please write the ticker of the stock company that you're looking for: msft\n",
      "Which year are you looking for?: 2021\n",
      "Beta msft: \n",
      "0,79\n",
      "stock msft: \n",
      "259,43\n",
      "expected GDP Growth 2021: \n",
      "4,3\n",
      "Expected Inflation rate 2021:\n",
      "1,7\n",
      "Return On Equity msft:\n",
      "44.99%\n",
      "Dividend Rate msft:\n",
      "2.19\n",
      "Ten Year Bond: \n",
      "-0.199%\n"
     ]
    },
    {
     "data": {
      "text/plain": [
       "('0,79', '4,3', '259,43', '1,7', '44.99%', '2.19', '-0.199%')"
      ]
     },
     "execution_count": 15,
     "metadata": {},
     "output_type": "execute_result"
    }
   ],
   "source": [
    "from bs4 import BeautifulSoup\n",
    "from urllib.request import urlopen\n",
    "\n",
    "html = urlopen(\"https://de.finance.yahoo.com/quote/AAPL?p=AAPL&.tsrc=fin-srch\").read()\n",
    "soup = BeautifulSoup(html, features='lxml')\n",
    "\n",
    "\n",
    "title = soup.find('h1').text\n",
    "\n",
    "#Ask user\n",
    "\n",
    "stockname=str(input(\"Please write the ticker of the stock company that you're looking for: \"))\n",
    "year=int(input(\"Which year are you looking for?: \"))\n",
    "\n",
    "def getFromInternet (stock,yearGbp):\n",
    "    html = urlopen(\"https://de.finance.yahoo.com/quote/\"+stockname+\"/key-statistics?p=\"+stockname).read()\n",
    "    soup = BeautifulSoup(html, features='lxml')\n",
    "    all_href = soup.find_all('a')\n",
    "    all_href = [l['href'] for l in all_href]\n",
    "\n",
    "    beta = soup.select_one('#Col1-0-KeyStatistics-Proxy > section > div.Mstart\\(a\\).Mend\\(a\\) > div.Fl\\(end\\).W\\(50\\%\\).smartphone_W\\(100\\%\\) > div > div:nth-child(1) > div > div > table > tbody > tr.Bxz\\(bb\\).H\\(36px\\).BdY.Bdc\\(\\$seperatorColor\\) > td.Fw\\(500\\).Ta\\(end\\).Pstart\\(10px\\).Miw\\(60px\\)').text\n",
    "    print (\"Beta \" +stockname+\": \"'\\n' + beta)\n",
    "    \n",
    "\n",
    "    stock = soup.select_one('#quote-header-info > div.My\\(6px\\).Pos\\(r\\).smartphone_Mt\\(6px\\) > div.D\\(ib\\).Va\\(m\\).Maw\\(65\\%\\).Ov\\(h\\) > div > span.Trsdu\\(0\\.3s\\).Fw\\(b\\).Fz\\(36px\\).Mb\\(-4px\\).D\\(ib\\)').text\n",
    "    print (\"stock \" +stockname+\": \"'\\n' + stock)\n",
    "\n",
    "    html = urlopen (\"https://ec.europa.eu/info/business-economy-euro/economic-performance-and-forecasts/economic-performance-country/euro-area_en\").read()\n",
    "    soup = BeautifulSoup(html, features='lxml')\n",
    "    \n",
    "    if year == 2020:\n",
    "        GDPgrowth = soup.select_one('#block-system-main > div > div > div.page-content > div > div > section > div > div > div > table > tbody > tr:nth-child(1) > td:nth-child(3)').text\n",
    "        print(\"Expected GDP Growth 2020: \"'\\n' + GDPgrowth)\n",
    "        \n",
    "        Inflationrate = soup.select_one('#block-system-main > div > div > div.page-content > div > div > section > div > div > div > table > tbody > tr:nth-child(2) > td:nth-child(3)').text\n",
    "        print(\"Expected Inflation Rate 2020: \"'\\n' + Inflationrate)\n",
    "    elif year == 2021:\n",
    "        GDPgrowth = soup.select_one('#block-system-main > div > div > div.page-content > div > div > section > div > div > div > table > tbody > tr:nth-child(1) > td:nth-child(4)').text\n",
    "        print(\"expected GDP Growth 2021: \"'\\n' + GDPgrowth)\n",
    "\n",
    "        Inflationrate = soup.select_one('#block-system-main > div > div > div.page-content > div > div > section > div > div > div > table > tbody > tr:nth-child(2) > td:nth-child(4)').text\n",
    "        print(\"Expected Inflation rate 2021:\"'\\n' + Inflationrate)\n",
    "    elif year == 2022:\n",
    "        GDPgrowth = soup.select_one('#block-system-main > div > div > div.page-content > div > div > section > div > div > div > table > tbody > tr:nth-child(1) > td:nth-child(5)').text\n",
    "        print(\"Expected GDP Growth 2022: \" '\\n' + GDPgrowth)\n",
    "\n",
    "        Inflationrate = soup.select_one('#block-system-main > div > div > div.page-content > div > div > section > div > div > div > table > tbody > tr:nth-child(2) > td:nth-child(5)').text\n",
    "        print(\"Inflation Rate 2022: \"'\\n' + Inflationrate)\n",
    "    else:\n",
    "        print(\"Please choose a year between 2020 and 2022\")\n",
    "    \n",
    "    html = urlopen(\"https://finance.yahoo.com/quote/\"+stockname+\"/key-statistics?p=\"+stockname).read()\n",
    "    soup = BeautifulSoup(html, features='lxml')\n",
    "    \n",
    "    ReturnOnEquity = soup.select_one('#Col1-0-KeyStatistics-Proxy > section > div.Mstart\\(a\\).Mend\\(a\\) > div:nth-child(3) > div > div:nth-child(3) > div > div > table > tbody > tr.Bxz\\(bb\\).H\\(36px\\).BdB.Bdbc\\(\\$seperatorColor\\) > td.Fw\\(500\\).Ta\\(end\\).Pstart\\(10px\\).Miw\\(60px\\)').text\n",
    "    print(\"Return On Equity \" +stockname+ \":\" '\\n' + ReturnOnEquity) \n",
    "    \n",
    "    DividendRate = soup.select_one('#Col1-0-KeyStatistics-Proxy > section > div.Mstart\\(a\\).Mend\\(a\\) > div.Fl\\(end\\).W\\(50\\%\\).smartphone_W\\(100\\%\\) > div > div:nth-child(3) > div > div > table > tbody > tr:nth-child(3) > td.Fw\\(500\\).Ta\\(end\\).Pstart\\(10px\\).Miw\\(60px\\)').text\n",
    "    print(\"Dividend Rate \" +stockname+ \":\" '\\n' + DividendRate)\n",
    "    \n",
    "    html = urlopen(\"https://www.marketwatch.com/investing/bond/tmbmkde-10y?countrycode=bx\").read()\n",
    "    soup = BeautifulSoup(html, features='lxml')\n",
    "    \n",
    "    Tenyearbond = soup.select_one('body > div.container.container--body > div.region.region--intraday > div.column.column--aside > div > div.intraday__close > table > tbody > tr > td').text\n",
    "    print(\"Ten Year Bond: \"'\\n' + Tenyearbond)\n",
    "    \n",
    "    return beta, GDPgrowth, stock, Inflationrate, ReturnOnEquity, DividendRate, Tenyearbond\n",
    "\n",
    "getFromInternet(stockname,year)    "
   ]
  },
  {
   "cell_type": "code",
   "execution_count": null,
   "metadata": {},
   "outputs": [],
   "source": []
  },
  {
   "cell_type": "code",
   "execution_count": null,
   "metadata": {},
   "outputs": [],
   "source": []
  },
  {
   "cell_type": "code",
   "execution_count": null,
   "metadata": {},
   "outputs": [],
   "source": []
  }
 ],
 "metadata": {
  "kernelspec": {
   "display_name": "Python 3",
   "language": "python",
   "name": "python3"
  }
 },
 "nbformat": 4,
 "nbformat_minor": 4
}
